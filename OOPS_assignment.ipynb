{
  "nbformat": 4,
  "nbformat_minor": 0,
  "metadata": {
    "colab": {
      "provenance": []
    },
    "kernelspec": {
      "name": "python3",
      "display_name": "Python 3"
    },
    "language_info": {
      "name": "python"
    }
  },
  "cells": [
    {
      "cell_type": "markdown",
      "source": [
        "# **OOPS Assignment**"
      ],
      "metadata": {
        "id": "ZZw3dnK1SAaD"
      }
    },
    {
      "cell_type": "markdown",
      "source": [
        "# Theory Based Assignment --"
      ],
      "metadata": {
        "id": "IBx3-EASSfdx"
      }
    },
    {
      "cell_type": "markdown",
      "source": [
        "1.  What is Object-Oriented Programming (OOP) ?\n",
        "  -  OOP means writing code using classes and objects to organize data and functions together like real-world things."
      ],
      "metadata": {
        "id": "IWKR5OgYSrj6"
      }
    },
    {
      "cell_type": "markdown",
      "source": [
        "2. What is a class in OOP ?\n",
        "   - A class in OOP in python is like a blueprint for creating objects . It defines what properties (variable) and behaviours (methods) those objects will have.\n",
        "   - A class is a template to create objects with similar features and actions."
      ],
      "metadata": {
        "id": "h0u2MW79TnKh"
      }
    },
    {
      "cell_type": "markdown",
      "source": [
        "3. What is an object in OOP ?\n",
        "  - An object is something created usinga class it can store data and do actions."
      ],
      "metadata": {
        "id": "7NqVBoo5Uvni"
      }
    },
    {
      "cell_type": "markdown",
      "source": [
        "4. What is the difference between abstraction and encapsulation ?\n",
        "  - Encapsulation = Protects how data is stored and accessed.\n",
        "  - Abstraction = Simplifies what the user sees and uses."
      ],
      "metadata": {
        "id": "wniopdk1Vc-G"
      }
    },
    {
      "cell_type": "markdown",
      "source": [
        "5. What are dunder methods in Python ?\n",
        "  - In Python, dunder methods are special built-in methods that start and end with double underscores—like __init__, __str__, and __len__.\n",
        ""
      ],
      "metadata": {
        "id": "eI1v6-ptV-ET"
      }
    },
    {
      "cell_type": "markdown",
      "source": [
        "6. Explain the concept of inheritance in OOP\n",
        "  - Inheritance in (OOP) means one class can reuse the properties and methods of another class. It’s like a child inheriting traits from their parents.\n",
        "  - You create a base (or parent) class, and then one or more child (or derived) classes can use its features without rewriting the code."
      ],
      "metadata": {
        "id": "q9bZIms_WUc1"
      }
    },
    {
      "cell_type": "markdown",
      "source": [
        "7. What is polymorphism in OOP ?\n",
        "  - Polymorphism in Oop means \"many forms.\" It lets the same function or method behave differently depending on the object calling it."
      ],
      "metadata": {
        "id": "BJztg7pLW2ln"
      }
    },
    {
      "cell_type": "markdown",
      "source": [
        "8. How is encapsulation achieved in Python ?\n",
        "  -  Encapsulation in Python is achieved using classes to wrap up data (variables) and methods (functions) into a single unit, and by restricting access to some parts of the object to protect it from accidental modification."
      ],
      "metadata": {
        "id": "187GbwsIXOU7"
      }
    },
    {
      "cell_type": "markdown",
      "source": [
        "9. What is a constructor in Python ?\n",
        "  - A constructor in Python is a special method used to automatically run code when an object is created from a class. In Python, this is done using the __init__ method (a dunder method!)."
      ],
      "metadata": {
        "id": "2nBxZQdlYE4-"
      }
    },
    {
      "cell_type": "markdown",
      "source": [
        "10. What are class and static methods in Python ?\n",
        "   - In Python, both class methods and static methods are used when you don’t want to deal with regular instance data directly."
      ],
      "metadata": {
        "id": "zGApD9N7Yl1p"
      }
    },
    {
      "cell_type": "markdown",
      "source": [
        "11. What is method overloading in Python ?\n",
        "   - Method Overloading means defining multiple methods with the same name but different parameters."
      ],
      "metadata": {
        "id": "-klQ-5VzY8uM"
      }
    },
    {
      "cell_type": "markdown",
      "source": [
        "12. What is method overriding in OOP ?\n",
        "  -  Method OOP happens when a child class provides a new version of a method that’s already defined in its parent class."
      ],
      "metadata": {
        "id": "c-IennCCZNDY"
      }
    },
    {
      "cell_type": "markdown",
      "source": [
        "13. What is a property decorator in Python?\n",
        "  -  A property decorator in Python lets you access a method like an attribute—so you can write cleaner, more natural-looking code when working with classes."
      ],
      "metadata": {
        "id": "WCMQK7FkZks-"
      }
    },
    {
      "cell_type": "markdown",
      "source": [
        "14. Why is polymorphism important in OOP ?\n",
        "  - Polymorphism is important in Object-Oriented Programming (OOP) because it makes your code flexible, scalable, and easier to maintain.\n",
        "\n"
      ],
      "metadata": {
        "id": "SWe_LUR9Z9o2"
      }
    },
    {
      "cell_type": "markdown",
      "source": [
        "15. What is an abstract class in Python ?\n",
        " - To define a common structure for related classes.\n",
        "- To enforce certain behaviors in child classes."
      ],
      "metadata": {
        "id": "FlTo-KsgaQIu"
      }
    },
    {
      "cell_type": "markdown",
      "source": [
        "16. What are the advantages of OOP ?\n",
        "   -  Object-Oriented Programming offers several powerful advantages that make your code more organized, flexible, and easier to manage—especially for larger or real-world projects."
      ],
      "metadata": {
        "id": "ReQ3aZfJaps_"
      }
    },
    {
      "cell_type": "markdown",
      "source": [
        "17. What is the difference between a class variable and an instance variable ?\n",
        "  -  Class Variable\n",
        "     - Belongs to the class itself, shared by all objects\n",
        "     - Usually used for things that should be the same for every object\n",
        "  - Instance Variable\n",
        "     - Belongs to the individual object\n",
        "     - Each object has its own copy with its own unique value\n"
      ],
      "metadata": {
        "id": "wnVTxpxjbELp"
      }
    },
    {
      "cell_type": "markdown",
      "source": [
        "18. What is multiple inheritance in Python ?\n",
        "   - Multiple Inheritance in Python means a class can inherit from more than one parent class. This allows a child class to combine the behaviors and features of multiple classes into one."
      ],
      "metadata": {
        "id": "aMlMxWaSbiti"
      }
    },
    {
      "cell_type": "markdown",
      "source": [
        "19. Explain the purpose of \" '__str__' and '__repr__' \" methods in Python\n",
        "  - Both __str__() and __repr__() are dunder methods (double underscore), and they define how your objects appear when you print them or view them in a Python.\n",
        "   -  __str__  :- purpose:- Readable, user-friendly string  , used by:- print(object).\n",
        "   - __repr__  :- purpose:- Technical, unambiguous string for developers , used by:- repr(object).\n"
      ],
      "metadata": {
        "id": "kdz6vif4bzro"
      }
    },
    {
      "cell_type": "markdown",
      "source": [
        "20. What is the significance of the 'super()' function in Python ?\n",
        "  -  The super() function in Python is used to call methods from a parent (or superclass) inside a child class."
      ],
      "metadata": {
        "id": "Klfx6jg_dOOm"
      }
    },
    {
      "cell_type": "markdown",
      "source": [
        "21. What is the significance of the __del__ method in Python ?\n",
        "  - The __del__() method in Python is a special destructor method that gets called automatically when an object is about to be destroyed ."
      ],
      "metadata": {
        "id": "dNRRAUm3dkQJ"
      }
    },
    {
      "cell_type": "markdown",
      "source": [
        "22. What is the difference between @staticmethod and @classmethod in Python ?\n",
        "  -"
      ],
      "metadata": {
        "id": "VAvRYfzddzEd"
      }
    },
    {
      "cell_type": "markdown",
      "source": [
        "23. How does polymorphism work in Python with inheritance ?\n",
        "  -  Polymorphism with inheritance in Python allows subclasses to define their own versions of methods from a parent class, while still being treated like the parent. This lets you write flexible and reusable code."
      ],
      "metadata": {
        "id": "mXyDRgkqeEQq"
      }
    },
    {
      "cell_type": "markdown",
      "source": [
        "24. What is method chaining in Python OOP ?\n",
        "  - Method Chaining in Python OOP is a coding technique where multiple methods are called in a single line, one after the other, using dot (.) notation. Each method returns the object itself (self), allowing the next method to be chained on."
      ],
      "metadata": {
        "id": "27Z6MneceX8Z"
      }
    },
    {
      "cell_type": "markdown",
      "source": [
        "25. What is the purpose of the __call__ method in Python ?\n",
        "  - The __call__() method in Python lets an object behave like a function. When you define this method inside a class, you can \"call\" an instance of that class using parentheses—just like calling a function."
      ],
      "metadata": {
        "id": "YNEF-bwHeqCc"
      }
    },
    {
      "cell_type": "markdown",
      "source": [
        "# Practical Based Assignment --"
      ],
      "metadata": {
        "id": "ULXjAwpJe4Xf"
      }
    },
    {
      "cell_type": "markdown",
      "source": [
        "1.  Create a parent class Animal with a method speak() that prints a generic message. Create a child class Dog that overrides the speak() method to print \"Bark!\"."
      ],
      "metadata": {
        "id": "f983qASXfCjs"
      }
    },
    {
      "cell_type": "code",
      "source": [
        "# Que1:-\n",
        "class Animal:\n",
        "    def speak(self):\n",
        "        print(\"The animal makes a sound.\")\n",
        "\n",
        "class Dog(Animal):\n",
        "    def speak(self):\n",
        "        print(\"Bark!\")\n",
        "\n",
        "# Testing it\n",
        "a = Animal()\n",
        "a.speak()\n",
        "\n",
        "d = Dog()\n",
        "d.speak()"
      ],
      "metadata": {
        "colab": {
          "base_uri": "https://localhost:8080/"
        },
        "id": "craIeG9gfgjF",
        "outputId": "dd4357f8-6768-46ad-b3a5-97218c34ca55"
      },
      "execution_count": 1,
      "outputs": [
        {
          "output_type": "stream",
          "name": "stdout",
          "text": [
            "The animal makes a sound.\n",
            "Bark!\n"
          ]
        }
      ]
    },
    {
      "cell_type": "markdown",
      "source": [
        "2. Write a program to create an abstract class Shape with a method area(). Derive classes Circle and Rectangle from it and implement the area() method in both."
      ],
      "metadata": {
        "id": "_q4Ryha1gORf"
      }
    },
    {
      "cell_type": "code",
      "source": [
        "# Que2:-\n",
        "from abc import ABC, abstractmethod\n",
        "import math\n",
        "\n",
        "# Abstract Class\n",
        "class Shape(ABC):\n",
        "\n",
        "    @abstractmethod\n",
        "    def area(self):\n",
        "        pass\n",
        "\n",
        "# Circle subclass\n",
        "class Circle(Shape):\n",
        "    def __init__(self, radius):\n",
        "        self.radius = radius\n",
        "\n",
        "    def area(self):\n",
        "        return math.pi * self.radius ** 2\n",
        "\n",
        "# Rectangle subclass\n",
        "class Rectangle(Shape):\n",
        "    def __init__(self, length, width):\n",
        "        self.length = length\n",
        "        self.width = width\n",
        "\n",
        "    def area(self):\n",
        "        return self.length * self.width\n",
        "\n",
        "# Testing it\n",
        "circle = Circle(5)\n",
        "rectangle = Rectangle(4, 6)\n",
        "\n",
        "print(f\"Circle Area: {circle.area():.2f}\")\n",
        "print(f\"Rectangle Area: {rectangle.area():.2f}\")"
      ],
      "metadata": {
        "colab": {
          "base_uri": "https://localhost:8080/"
        },
        "id": "kZNXjLvigXSY",
        "outputId": "ce74de20-2c50-4925-d76c-b4ddc8fd2df4"
      },
      "execution_count": 2,
      "outputs": [
        {
          "output_type": "stream",
          "name": "stdout",
          "text": [
            "Circle Area: 78.54\n",
            "Rectangle Area: 24.00\n"
          ]
        }
      ]
    },
    {
      "cell_type": "markdown",
      "source": [
        "3.  Implement a multi-level inheritance scenario where a class Vehicle has an attribute type. Derive a class Car and further derive a class ElectricCar that adds a battery attribute."
      ],
      "metadata": {
        "id": "3uNj7300g6uo"
      }
    },
    {
      "cell_type": "code",
      "source": [
        "# Que3:-\n",
        "# Base class\n",
        "class Vehicle:\n",
        "    def __init__(self, vehicle_type):\n",
        "        self.vehicle_type = vehicle_type\n",
        "\n",
        "    def show_type(self):\n",
        "        print(f\"Vehicle Type: {self.vehicle_type}\")\n",
        "\n",
        "class Car(Vehicle):\n",
        "    def __init__(self, vehicle_type, brand):\n",
        "        super().__init__(vehicle_type)\n",
        "        self.brand = brand\n",
        "\n",
        "    def show_brand(self):\n",
        "        print(f\"Car Brand: {self.brand}\")\n",
        "\n",
        "class ElectricCar(Car):\n",
        "    def __init__(self, vehicle_type, brand, battery_capacity):\n",
        "        super().__init__(vehicle_type, brand)\n",
        "        self.battery_capacity = battery_capacity\n",
        "\n",
        "    def show_battery(self):\n",
        "        print(f\"Battery Capacity: {self.battery_capacity} kWh\")\n",
        "\n",
        "# Test it\n",
        "tesla = ElectricCar(\"Four Wheeler\", \"Tesla\", 75)\n",
        "tesla.show_type()\n",
        "tesla.show_brand()\n",
        "tesla.show_battery()"
      ],
      "metadata": {
        "colab": {
          "base_uri": "https://localhost:8080/"
        },
        "id": "nRYgXHlMhC_l",
        "outputId": "128b3ef5-4622-4e5f-cfc6-52a666efb4d1"
      },
      "execution_count": 3,
      "outputs": [
        {
          "output_type": "stream",
          "name": "stdout",
          "text": [
            "Vehicle Type: Four Wheeler\n",
            "Car Brand: Tesla\n",
            "Battery Capacity: 75 kWh\n"
          ]
        }
      ]
    },
    {
      "cell_type": "markdown",
      "source": [
        "4.  Demonstrate polymorphism by creating a base class Bird with a method fly(). Create two derived classes Sparrow and Penguin that override the fly() method.\n"
      ],
      "metadata": {
        "id": "RAWj1IzTiEjT"
      }
    },
    {
      "cell_type": "code",
      "source": [
        "# Que4:-\n",
        "class Bird:\n",
        "    def fly(self):\n",
        "        print(\"Birds can fly.\")\n",
        "\n",
        "class Sparrow(Bird):\n",
        "    def fly(self):\n",
        "        print(\"Sparrows can fly at high speeds.\")\n",
        "\n",
        "class Penguin(Bird):\n",
        "    def fly(self):\n",
        "        print(\"Penguins can't fly.\")\n",
        "\n",
        "# Testing it\n",
        "bird = Bird()\n",
        "bird.fly()\n",
        "\n",
        "sparrow = Sparrow()\n",
        "sparrow.fly()\n",
        "\n",
        "penguin = Penguin()\n",
        "penguin.fly()"
      ],
      "metadata": {
        "colab": {
          "base_uri": "https://localhost:8080/"
        },
        "id": "9dq5rJVziCd2",
        "outputId": "9f2e1ba1-a770-42d7-c859-46832abf7163"
      },
      "execution_count": 4,
      "outputs": [
        {
          "output_type": "stream",
          "name": "stdout",
          "text": [
            "Birds can fly.\n",
            "Sparrows can fly at high speeds.\n",
            "Penguins can't fly.\n"
          ]
        }
      ]
    },
    {
      "cell_type": "markdown",
      "source": [
        "5.  Write a program to demonstrate encapsulation by creating a class BankAccount with private attributes balance and methods to deposit, withdraw, and check balance."
      ],
      "metadata": {
        "id": "xXNN75oAiYVx"
      }
    },
    {
      "cell_type": "code",
      "source": [
        "# Que5:-\n",
        "class BankAccount:\n",
        "    def __init__(self, initial_balance=0):\n",
        "        self.__balance = initial_balance  # private attribute\n",
        "\n",
        "    def deposit(self, amount):\n",
        "        if amount > 0:\n",
        "            self.__balance += amount\n",
        "            print(f\"Deposited ₹{amount}\")\n",
        "        else:\n",
        "            print(\"Deposit amount must be positive.\")\n",
        "\n",
        "    def withdraw(self, amount):\n",
        "        if 0 < amount <= self.__balance:\n",
        "            self.__balance -= amount\n",
        "            print(f\"Withdrew ₹{amount}\")\n",
        "        else:\n",
        "            print(\"Insufficient balance or invalid amount.\")\n",
        "\n",
        "    def check_balance(self):\n",
        "        print(f\"Current Balance: ₹{self.__balance}\")\n",
        "\n",
        "\n",
        "account = BankAccount(1000)\n",
        "account.check_balance()\n",
        "account.deposit(500)\n",
        "account.withdraw(300)\n",
        "account.check_balance()\n"
      ],
      "metadata": {
        "colab": {
          "base_uri": "https://localhost:8080/"
        },
        "id": "kPZ2ex6BidzY",
        "outputId": "877b9cc7-9c63-4320-aa94-94715f287838"
      },
      "execution_count": 5,
      "outputs": [
        {
          "output_type": "stream",
          "name": "stdout",
          "text": [
            "Current Balance: ₹1000\n",
            "Deposited ₹500\n",
            "Withdrew ₹300\n",
            "Current Balance: ₹1200\n"
          ]
        }
      ]
    },
    {
      "cell_type": "markdown",
      "source": [
        "6. Demonstrate runtime polymorphism using a method play() in a base class Instrument. Derive classes Guitar and Piano that implement their own version of play()."
      ],
      "metadata": {
        "id": "Pu2P3NnOjELW"
      }
    },
    {
      "cell_type": "code",
      "source": [
        "# Que6:-\n",
        "class Instrument:\n",
        "    def play(self):\n",
        "        print(\"Instrument is playing...\")\n",
        "\n",
        "class Guitar(Instrument):\n",
        "    def play(self):\n",
        "        print(\"Strumming the guitar 🎸\")\n",
        "\n",
        "class Piano(Instrument):\n",
        "    def play(self):\n",
        "        print(\"Playing the piano 🎹\")\n",
        "\n",
        "\n",
        "def start_music(instrument):\n",
        "    instrument.play()\n",
        "g = Guitar()\n",
        "p = Piano()\n",
        "\n",
        "start_music(g)\n",
        "start_music(p)"
      ],
      "metadata": {
        "colab": {
          "base_uri": "https://localhost:8080/"
        },
        "id": "kVNM9f8kjBPs",
        "outputId": "41ffc2bc-8b05-4ea2-fd58-d80aaf617f78"
      },
      "execution_count": 6,
      "outputs": [
        {
          "output_type": "stream",
          "name": "stdout",
          "text": [
            "Strumming the guitar 🎸\n",
            "Playing the piano 🎹\n"
          ]
        }
      ]
    },
    {
      "cell_type": "markdown",
      "source": [
        "7.  Create a class MathOperations with a class method add_numbers() to add two numbers and a static method subtract_numbers() to subtract two numbers."
      ],
      "metadata": {
        "id": "_W3MyEUvjnCW"
      }
    },
    {
      "cell_type": "code",
      "source": [
        "#Que7:-\n",
        "class MathOperations:\n",
        "\n",
        "    @classmethod\n",
        "    def add_numbers(cls, a, b):\n",
        "        return a + b\n",
        "\n",
        "    @staticmethod\n",
        "    def subtract_numbers(a, b):\n",
        "        return a - b\n",
        "print(\"Addition:\", MathOperations.add_numbers(10, 5))\n",
        "print(\"Subtraction:\", MathOperations.subtract_numbers(10, 5))"
      ],
      "metadata": {
        "colab": {
          "base_uri": "https://localhost:8080/"
        },
        "id": "iCYt-SqHjs9R",
        "outputId": "11365e9b-e0d5-4285-a4e5-c6409345531a"
      },
      "execution_count": 7,
      "outputs": [
        {
          "output_type": "stream",
          "name": "stdout",
          "text": [
            "Addition: 15\n",
            "Subtraction: 5\n"
          ]
        }
      ]
    },
    {
      "cell_type": "markdown",
      "source": [
        "8.  Implement a class Person with a class method to count the total number of persons created."
      ],
      "metadata": {
        "id": "j7mOnt7Wj892"
      }
    },
    {
      "cell_type": "code",
      "source": [
        "#Que8:-\n",
        "class Person:\n",
        "    count = 0\n",
        "    def __init__(self, name):\n",
        "        self.name = name\n",
        "        Person.count += 1\n",
        "    @classmethod\n",
        "    def total_persons(cls):\n",
        "        return cls.count\n",
        "\n",
        "p1 = Person(\"Jeet\")\n",
        "p2 = Person(\"Aryan\")\n",
        "p3 = Person(\"Sana\")\n",
        "\n",
        "print(\"Total Persons Created:\", Person.total_persons())"
      ],
      "metadata": {
        "colab": {
          "base_uri": "https://localhost:8080/"
        },
        "id": "SRUCMowRj74J",
        "outputId": "b81b8e82-eeef-4070-a4b1-9b987526b14d"
      },
      "execution_count": 8,
      "outputs": [
        {
          "output_type": "stream",
          "name": "stdout",
          "text": [
            "Total Persons Created: 3\n"
          ]
        }
      ]
    },
    {
      "cell_type": "markdown",
      "source": [
        "9.  Write a class Fraction with attributes numerator and denominator. Override the str method to display the fraction as \"numerator/denominator\"."
      ],
      "metadata": {
        "id": "__6vImZbkvBw"
      }
    },
    {
      "cell_type": "code",
      "source": [
        "# Que9:-\n",
        "class Fraction:\n",
        "    def __init__(self, numerator, denominator):\n",
        "        self.numerator = numerator\n",
        "        self.denominator = denominator\n",
        "\n",
        "    def __str__(self):\n",
        "        return f\"{self.numerator}/{self.denominator}\"\n",
        "f = Fraction(5, 7)\n",
        "print(f)"
      ],
      "metadata": {
        "colab": {
          "base_uri": "https://localhost:8080/"
        },
        "id": "agH5dlX4kuHN",
        "outputId": "53c4e375-1854-4047-c9c3-0256d14d2b2f"
      },
      "execution_count": 9,
      "outputs": [
        {
          "output_type": "stream",
          "name": "stdout",
          "text": [
            "5/7\n"
          ]
        }
      ]
    },
    {
      "cell_type": "markdown",
      "source": [
        "10.  Demonstrate operator overloading by creating a class Vector and overriding the add method to add two vectors."
      ],
      "metadata": {
        "id": "bTJtbfo3lAS7"
      }
    },
    {
      "cell_type": "code",
      "source": [
        "#Que10:-\n",
        "class Vector:\n",
        "    def __init__(self, x, y):\n",
        "        self.x = x\n",
        "        self.y = y\n",
        "\n",
        "    def __add__(self, other):\n",
        "        return Vector(self.x + other.x, self.y + other.y)\n",
        "\n",
        "    def __str__(self):\n",
        "        return f\"Vector({self.x}, {self.y})\"\n",
        "\n",
        "v1 = Vector(2, 3)\n",
        "v2 = Vector(4, 5)\n",
        "\n",
        "v3 = v1 + v2\n",
        "print(v3)"
      ],
      "metadata": {
        "colab": {
          "base_uri": "https://localhost:8080/"
        },
        "id": "kX4axeQjk4K3",
        "outputId": "d0fc02e8-1bcd-4f84-9b38-3a8314917915"
      },
      "execution_count": 10,
      "outputs": [
        {
          "output_type": "stream",
          "name": "stdout",
          "text": [
            "Vector(6, 8)\n"
          ]
        }
      ]
    },
    {
      "cell_type": "markdown",
      "source": [
        "11.  Create a class Person with attributes name and age. Add a method greet() that prints \"Hello, my name is {name} and I am {age} years old.\""
      ],
      "metadata": {
        "id": "vfls8X-zlPgB"
      }
    },
    {
      "cell_type": "code",
      "source": [
        "#Que11:-\n",
        "class Person:\n",
        "    def __init__(self, name, age):\n",
        "        self.name = name\n",
        "        self.age = age\n",
        "\n",
        "    def greet(self):\n",
        "        print(f\"Hello, my name is {self.name} and I am {self.age} years old.\")\n",
        "\n",
        "p1 = Person(\"Jeet\", 21)\n",
        "p1.greet()"
      ],
      "metadata": {
        "colab": {
          "base_uri": "https://localhost:8080/"
        },
        "id": "LIkpQGlelNtR",
        "outputId": "e731dd5b-f6b0-4b36-da16-dc78593310e0"
      },
      "execution_count": 12,
      "outputs": [
        {
          "output_type": "stream",
          "name": "stdout",
          "text": [
            "Hello, my name is Jeet and I am 21 years old.\n"
          ]
        }
      ]
    },
    {
      "cell_type": "markdown",
      "source": [
        "12.  Implement a class Student with attributes name and grades. Create a method average_grade() to compute the average of the grades."
      ],
      "metadata": {
        "id": "EwkkiiT0lilK"
      }
    },
    {
      "cell_type": "code",
      "source": [
        "# Que12:-\n",
        "class Student:\n",
        "    def __init__(self, name, grades):\n",
        "        self.name = name\n",
        "        self.grades = grades\n",
        "\n",
        "    def average_grade(self):\n",
        "        if self.grades:\n",
        "            return sum(self.grades) / len(self.grades)\n",
        "        else:\n",
        "            return 0\n",
        "\n",
        "s1 = Student(\"Jeet\", [85, 90, 78, 92])\n",
        "print(f\"{s1.name}'s Average Grade: {s1.average_grade():.2f}\")"
      ],
      "metadata": {
        "colab": {
          "base_uri": "https://localhost:8080/"
        },
        "id": "FbyRmJFjlfbz",
        "outputId": "870bd9a9-172d-4df8-b171-bb80667eeb74"
      },
      "execution_count": 13,
      "outputs": [
        {
          "output_type": "stream",
          "name": "stdout",
          "text": [
            "Jeet's Average Grade: 86.25\n"
          ]
        }
      ]
    },
    {
      "cell_type": "markdown",
      "source": [
        "13. Create a class Rectangle with methods set_dimensions() to set the dimensions and area() to calculate the area."
      ],
      "metadata": {
        "id": "tVXR1oSdl7bj"
      }
    },
    {
      "cell_type": "code",
      "source": [
        "# Que13:-\n",
        "class Rectangle:\n",
        "    def __init__(self):\n",
        "        self.length = 0\n",
        "        self.width = 0\n",
        "\n",
        "    def set_dimensions(self, length, width):\n",
        "        self.length = length\n",
        "        self.width = width\n",
        "\n",
        "    def area(self):\n",
        "        return self.length * self.width\n",
        "\n",
        "r = Rectangle()\n",
        "r.set_dimensions(5, 3)\n",
        "print(f\"Area of Rectangle: {r.area()}\")"
      ],
      "metadata": {
        "colab": {
          "base_uri": "https://localhost:8080/"
        },
        "id": "xbcLGkkXl322",
        "outputId": "70ffe604-bccc-4b3c-c922-7eae4f6e60b9"
      },
      "execution_count": 14,
      "outputs": [
        {
          "output_type": "stream",
          "name": "stdout",
          "text": [
            "Area of Rectangle: 15\n"
          ]
        }
      ]
    },
    {
      "cell_type": "markdown",
      "source": [
        "14. Create a class Employee with a method calculate_salary() that computes the salary based on hours worked and hourly rate. Create a derived class Manager that adds a bonus to the salary"
      ],
      "metadata": {
        "id": "yNZe84wnmYJP"
      }
    },
    {
      "cell_type": "code",
      "source": [
        "# Que14:-\n",
        "class Employee:\n",
        "    def __init__(self, name, hours_worked, hourly_rate):\n",
        "        self.name = name\n",
        "        self.hours_worked = hours_worked\n",
        "        self.hourly_rate = hourly_rate\n",
        "\n",
        "    def calculate_salary(self):\n",
        "        return self.hours_worked * self.hourly_rate\n",
        "\n",
        "class Manager(Employee):\n",
        "    def __init__(self, name, hours_worked, hourly_rate, bonus):\n",
        "        super().__init__(name, hours_worked, hourly_rate)\n",
        "        self.bonus = bonus\n",
        "\n",
        "    def calculate_salary(self):\n",
        "        base_salary = super().calculate_salary()\n",
        "        return base_salary + self.bonus\n",
        "\n",
        "emp = Employee(\"Aryan\", 40, 500)\n",
        "mgr = Manager(\"Jeet\", 65, 700, 5000)\n",
        "\n",
        "print(f\"{emp.name}'s Salary: ₹{emp.calculate_salary()}\")\n",
        "print(f\"{mgr.name}'s Salary: ₹{mgr.calculate_salary()}\")"
      ],
      "metadata": {
        "colab": {
          "base_uri": "https://localhost:8080/"
        },
        "id": "5GVdT0LjmV2A",
        "outputId": "82d43376-3836-4c05-b5cf-ecd2657c6b5c"
      },
      "execution_count": 21,
      "outputs": [
        {
          "output_type": "stream",
          "name": "stdout",
          "text": [
            "Aryan's Salary: ₹20000\n",
            "Jeet's Salary: ₹50500\n"
          ]
        }
      ]
    },
    {
      "cell_type": "markdown",
      "source": [
        "15. Create a class Product with attributes name, price, and quantity. Implement a method total_price() that calculates the total price of the product."
      ],
      "metadata": {
        "id": "olozEOxDnIZY"
      }
    },
    {
      "cell_type": "code",
      "source": [
        "# Que15:-\n",
        "class Product:\n",
        "    def __init__(self, name, price, quantity):\n",
        "        self.name = name\n",
        "        self.price = price\n",
        "        self.quantity = quantity\n",
        "\n",
        "    def total_price(self):\n",
        "        return self.price * self.quantity\n",
        "\n",
        "product = Product(\"Laptop\", 54000, 2)\n",
        "print(f\"Total Price of {product.quantity} {product.name}(s): ₹{product.total_price()}\")"
      ],
      "metadata": {
        "colab": {
          "base_uri": "https://localhost:8080/"
        },
        "id": "6ZDYiFEWmwk7",
        "outputId": "4cd99da9-4a81-4ea7-8c64-2b3621b35dbd"
      },
      "execution_count": 23,
      "outputs": [
        {
          "output_type": "stream",
          "name": "stdout",
          "text": [
            "Total Price of 2 Laptop(s): ₹108000\n"
          ]
        }
      ]
    },
    {
      "cell_type": "markdown",
      "source": [
        "16. Create a class Animal with an abstract method sound(). Create two derived classes Cow and Sheep that implement the sound() method."
      ],
      "metadata": {
        "id": "a6w22SY2nd2z"
      }
    },
    {
      "cell_type": "code",
      "source": [
        "# Que16:-\n",
        "from abc import ABC, abstractmethod\n",
        "\n",
        "class Animal(ABC):\n",
        "    @abstractmethod\n",
        "    def sound(self):\n",
        "        pass\n",
        "\n",
        "class Cow(Animal):\n",
        "    def sound(self):\n",
        "        print(\"Moo!\")\n",
        "\n",
        "class Sheep(Animal):\n",
        "    def sound(self):\n",
        "        print(\"Baa!\")\n",
        "\n",
        "c = Cow()\n",
        "s = Sheep()\n",
        "\n",
        "c.sound()\n",
        "s.sound()"
      ],
      "metadata": {
        "colab": {
          "base_uri": "https://localhost:8080/"
        },
        "id": "pIKqeHMSnXV_",
        "outputId": "3a196786-7659-4c97-9e93-190a1dc131c0"
      },
      "execution_count": 24,
      "outputs": [
        {
          "output_type": "stream",
          "name": "stdout",
          "text": [
            "Moo!\n",
            "Baa!\n"
          ]
        }
      ]
    },
    {
      "cell_type": "markdown",
      "source": [
        "17. Create a class Book with attributes title, author, and year_published. Add a method get_book_info() that returns a formatted string with the book's details."
      ],
      "metadata": {
        "id": "sE-5zS3Hnysx"
      }
    },
    {
      "cell_type": "code",
      "source": [
        "# Que17:-\n",
        "class Book:\n",
        "    def __init__(self, title, author, year_published):\n",
        "        self.title = title\n",
        "        self.author = author\n",
        "        self.year_published = year_published\n",
        "\n",
        "    def get_book_info(self):\n",
        "        return f\"'{self.title}' by {self.author}, published in {self.year_published}.\"\n",
        "\n",
        "book1 = Book(\"SSC Maths\", \"Gagan Pratap\", 2024)\n",
        "print(book1.get_book_info())\n"
      ],
      "metadata": {
        "colab": {
          "base_uri": "https://localhost:8080/"
        },
        "id": "pR2ljcy7nxX5",
        "outputId": "6fffc059-a093-4569-ad77-5c8857f17615"
      },
      "execution_count": 29,
      "outputs": [
        {
          "output_type": "stream",
          "name": "stdout",
          "text": [
            "'SSC Maths' by Gagan Pratap, published in 2024.\n"
          ]
        }
      ]
    },
    {
      "cell_type": "markdown",
      "source": [
        "18.  Create a class House with attributes address and price. Create a derived class Mansion that adds an attribute number_of_rooms."
      ],
      "metadata": {
        "id": "rn5fQ3CUog7A"
      }
    },
    {
      "cell_type": "code",
      "source": [
        "# Que18:-\n",
        "class House:\n",
        "    def __init__(self, address, price):\n",
        "        self.address = address\n",
        "        self.price = price\n",
        "class Mansion(House):\n",
        "    def __init__(self, address, price, number_of_rooms):\n",
        "        super().__init__(address, price)\n",
        "        self.number_of_rooms = number_of_rooms\n"
      ],
      "metadata": {
        "id": "vTjSsqcNoCla"
      },
      "execution_count": null,
      "outputs": []
    }
  ]
}